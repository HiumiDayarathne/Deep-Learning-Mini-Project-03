{
  "nbformat": 4,
  "nbformat_minor": 0,
  "metadata": {
    "colab": {
      "provenance": [],
      "gpuType": "T4"
    },
    "kernelspec": {
      "name": "python3",
      "display_name": "Python 3"
    },
    "language_info": {
      "name": "python"
    },
    "accelerator": "GPU"
  },
  "cells": [
    {
      "cell_type": "code",
      "execution_count": null,
      "metadata": {
        "id": "RM5vFv4m4PTN"
      },
      "outputs": [],
      "source": [
        "import numpy as np\n",
        "import pandas as pd\n",
        "from sklearn.model_selection import train_test_split\n",
        "from keras.preprocessing.text import Tokenizer\n",
        "from keras.preprocessing.sequence import pad_sequences\n",
        "from keras.models import Model\n",
        "from keras.layers import Input, Embedding, Dense, Masking\n",
        "from keras.layers import Attention, LayerNormalization, Dropout\n",
        "from keras.optimizers import Adam\n",
        "import os\n",
        "import tensorflow as tf"
      ]
    },
    {
      "cell_type": "code",
      "source": [],
      "metadata": {
        "id": "0_RL6jD4413j"
      },
      "execution_count": null,
      "outputs": []
    },
    {
      "cell_type": "code",
      "source": [
        "from google.colab import drive\n",
        "drive.mount('/content/drive')"
      ],
      "metadata": {
        "colab": {
          "base_uri": "https://localhost:8080/"
        },
        "id": "OPvpOxIL4y2W",
        "outputId": "dc44ee2c-9e79-4db9-e0bf-50d1b6b4ac5a"
      },
      "execution_count": null,
      "outputs": [
        {
          "output_type": "stream",
          "name": "stdout",
          "text": [
            "Mounted at /content/drive\n"
          ]
        }
      ]
    },
    {
      "cell_type": "code",
      "source": [
        "os.chdir(\"/content/drive/My Drive/Colab Notebooks/\")\n",
        "os.getcwd()"
      ],
      "metadata": {
        "colab": {
          "base_uri": "https://localhost:8080/",
          "height": 36
        },
        "id": "Ak3Z6cha433s",
        "outputId": "dc3d2430-4807-4d53-819b-1f85f5bd0a4e"
      },
      "execution_count": null,
      "outputs": [
        {
          "output_type": "execute_result",
          "data": {
            "text/plain": [
              "'/content/drive/My Drive/Colab Notebooks'"
            ],
            "application/vnd.google.colaboratory.intrinsic+json": {
              "type": "string"
            }
          },
          "metadata": {},
          "execution_count": 3
        }
      ]
    },
    {
      "cell_type": "code",
      "source": [
        "df=pd.read_csv('train_sinhala.csv')"
      ],
      "metadata": {
        "id": "lRltA3e045T4"
      },
      "execution_count": null,
      "outputs": []
    },
    {
      "cell_type": "code",
      "source": [
        "df"
      ],
      "metadata": {
        "colab": {
          "base_uri": "https://localhost:8080/",
          "height": 423
        },
        "id": "XIhD4s1O46l2",
        "outputId": "37904142-2fa0-4bc8-9aae-180ffd596e40"
      },
      "execution_count": null,
      "outputs": [
        {
          "output_type": "execute_result",
          "data": {
            "text/plain": [
              "                                                 english  \\\n",
              "0                 you will receive a package in the mail   \n",
              "1      you will receive a confirmation code after com...   \n",
              "2      you will receive a discount on your next purchase   \n",
              "3      you will receive a phone call from our custome...   \n",
              "4      you will receive a notification when your orde...   \n",
              "...                                                  ...   \n",
              "80679  Deep in the enchanted forest a group of woodla...   \n",
              "80680  On a sunny summer day a group of friends gathe...   \n",
              "80681  In a quaint seaside village a mysterious stran...   \n",
              "80682  Thomas an aspiring writer found inspiration in...   \n",
              "80683  In a land of mythical creatures a young dragon...   \n",
              "\n",
              "                                                 sinhala  \n",
              "0                     ඔයාට තැපෑලෙන් පැකේජ් එකක් හම්බවේවි  \n",
              "1      ලියාපදිංචිය සම්පූර්ණ කලාට පස්සෙ ඔයාට තහවුරු කි...  \n",
              "2          ඊලඟ මිලදී ගැනීම කරන කොට ඔයාට වට්ටමක් හම්බවේවි  \n",
              "3      ඔයාට අපේ පාරිභෝගික සේවා කණ්ඩායමෙන් දුරකථන ඇමතු...  \n",
              "4      ඔයාගේ ඇණවුම සූදානම් උනාට පස්සෙ ඔයාට දැනුම් දීම...  \n",
              "...                                                  ...  \n",
              "80679  වශීකෘත වනාන්තරයේ ගැඹුරින් නුවණැති මහලු බකමූණෙක...  \n",
              "80680  අව්ව සහිත ගිම්හාන දිනයක මිතුරන් පිරිසක් වැලි ම...  \n",
              "80681  විචිත්‍රවත් මුහුදු වෙරළේ ගම්මානයකට අද්භූත ආගන්...  \n",
              "80682  අභිලාෂකාමී ලේඛකයෙකු වන තෝමස් සෑම අස්සක් මුල්ලක...  \n",
              "80683  මිථ්‍යා ජීවීන් සිටින රටක එම්බර් නම් තරුණ මකරෙක...  \n",
              "\n",
              "[80684 rows x 2 columns]"
            ],
            "text/html": [
              "\n",
              "  <div id=\"df-aca32bc1-2a6b-4472-8f54-3c898c70d0cc\" class=\"colab-df-container\">\n",
              "    <div>\n",
              "<style scoped>\n",
              "    .dataframe tbody tr th:only-of-type {\n",
              "        vertical-align: middle;\n",
              "    }\n",
              "\n",
              "    .dataframe tbody tr th {\n",
              "        vertical-align: top;\n",
              "    }\n",
              "\n",
              "    .dataframe thead th {\n",
              "        text-align: right;\n",
              "    }\n",
              "</style>\n",
              "<table border=\"1\" class=\"dataframe\">\n",
              "  <thead>\n",
              "    <tr style=\"text-align: right;\">\n",
              "      <th></th>\n",
              "      <th>english</th>\n",
              "      <th>sinhala</th>\n",
              "    </tr>\n",
              "  </thead>\n",
              "  <tbody>\n",
              "    <tr>\n",
              "      <th>0</th>\n",
              "      <td>you will receive a package in the mail</td>\n",
              "      <td>ඔයාට තැපෑලෙන් පැකේජ් එකක් හම්බවේවි</td>\n",
              "    </tr>\n",
              "    <tr>\n",
              "      <th>1</th>\n",
              "      <td>you will receive a confirmation code after com...</td>\n",
              "      <td>ලියාපදිංචිය සම්පූර්ණ කලාට පස්සෙ ඔයාට තහවුරු කි...</td>\n",
              "    </tr>\n",
              "    <tr>\n",
              "      <th>2</th>\n",
              "      <td>you will receive a discount on your next purchase</td>\n",
              "      <td>ඊලඟ මිලදී ගැනීම කරන කොට ඔයාට වට්ටමක් හම්බවේවි</td>\n",
              "    </tr>\n",
              "    <tr>\n",
              "      <th>3</th>\n",
              "      <td>you will receive a phone call from our custome...</td>\n",
              "      <td>ඔයාට අපේ පාරිභෝගික සේවා කණ්ඩායමෙන් දුරකථන ඇමතු...</td>\n",
              "    </tr>\n",
              "    <tr>\n",
              "      <th>4</th>\n",
              "      <td>you will receive a notification when your orde...</td>\n",
              "      <td>ඔයාගේ ඇණවුම සූදානම් උනාට පස්සෙ ඔයාට දැනුම් දීම...</td>\n",
              "    </tr>\n",
              "    <tr>\n",
              "      <th>...</th>\n",
              "      <td>...</td>\n",
              "      <td>...</td>\n",
              "    </tr>\n",
              "    <tr>\n",
              "      <th>80679</th>\n",
              "      <td>Deep in the enchanted forest a group of woodla...</td>\n",
              "      <td>වශීකෘත වනාන්තරයේ ගැඹුරින් නුවණැති මහලු බකමූණෙක...</td>\n",
              "    </tr>\n",
              "    <tr>\n",
              "      <th>80680</th>\n",
              "      <td>On a sunny summer day a group of friends gathe...</td>\n",
              "      <td>අව්ව සහිත ගිම්හාන දිනයක මිතුරන් පිරිසක් වැලි ම...</td>\n",
              "    </tr>\n",
              "    <tr>\n",
              "      <th>80681</th>\n",
              "      <td>In a quaint seaside village a mysterious stran...</td>\n",
              "      <td>විචිත්‍රවත් මුහුදු වෙරළේ ගම්මානයකට අද්භූත ආගන්...</td>\n",
              "    </tr>\n",
              "    <tr>\n",
              "      <th>80682</th>\n",
              "      <td>Thomas an aspiring writer found inspiration in...</td>\n",
              "      <td>අභිලාෂකාමී ලේඛකයෙකු වන තෝමස් සෑම අස්සක් මුල්ලක...</td>\n",
              "    </tr>\n",
              "    <tr>\n",
              "      <th>80683</th>\n",
              "      <td>In a land of mythical creatures a young dragon...</td>\n",
              "      <td>මිථ්‍යා ජීවීන් සිටින රටක එම්බර් නම් තරුණ මකරෙක...</td>\n",
              "    </tr>\n",
              "  </tbody>\n",
              "</table>\n",
              "<p>80684 rows × 2 columns</p>\n",
              "</div>\n",
              "    <div class=\"colab-df-buttons\">\n",
              "\n",
              "  <div class=\"colab-df-container\">\n",
              "    <button class=\"colab-df-convert\" onclick=\"convertToInteractive('df-aca32bc1-2a6b-4472-8f54-3c898c70d0cc')\"\n",
              "            title=\"Convert this dataframe to an interactive table.\"\n",
              "            style=\"display:none;\">\n",
              "\n",
              "  <svg xmlns=\"http://www.w3.org/2000/svg\" height=\"24px\" viewBox=\"0 -960 960 960\">\n",
              "    <path d=\"M120-120v-720h720v720H120Zm60-500h600v-160H180v160Zm220 220h160v-160H400v160Zm0 220h160v-160H400v160ZM180-400h160v-160H180v160Zm440 0h160v-160H620v160ZM180-180h160v-160H180v160Zm440 0h160v-160H620v160Z\"/>\n",
              "  </svg>\n",
              "    </button>\n",
              "\n",
              "  <style>\n",
              "    .colab-df-container {\n",
              "      display:flex;\n",
              "      gap: 12px;\n",
              "    }\n",
              "\n",
              "    .colab-df-convert {\n",
              "      background-color: #E8F0FE;\n",
              "      border: none;\n",
              "      border-radius: 50%;\n",
              "      cursor: pointer;\n",
              "      display: none;\n",
              "      fill: #1967D2;\n",
              "      height: 32px;\n",
              "      padding: 0 0 0 0;\n",
              "      width: 32px;\n",
              "    }\n",
              "\n",
              "    .colab-df-convert:hover {\n",
              "      background-color: #E2EBFA;\n",
              "      box-shadow: 0px 1px 2px rgba(60, 64, 67, 0.3), 0px 1px 3px 1px rgba(60, 64, 67, 0.15);\n",
              "      fill: #174EA6;\n",
              "    }\n",
              "\n",
              "    .colab-df-buttons div {\n",
              "      margin-bottom: 4px;\n",
              "    }\n",
              "\n",
              "    [theme=dark] .colab-df-convert {\n",
              "      background-color: #3B4455;\n",
              "      fill: #D2E3FC;\n",
              "    }\n",
              "\n",
              "    [theme=dark] .colab-df-convert:hover {\n",
              "      background-color: #434B5C;\n",
              "      box-shadow: 0px 1px 3px 1px rgba(0, 0, 0, 0.15);\n",
              "      filter: drop-shadow(0px 1px 2px rgba(0, 0, 0, 0.3));\n",
              "      fill: #FFFFFF;\n",
              "    }\n",
              "  </style>\n",
              "\n",
              "    <script>\n",
              "      const buttonEl =\n",
              "        document.querySelector('#df-aca32bc1-2a6b-4472-8f54-3c898c70d0cc button.colab-df-convert');\n",
              "      buttonEl.style.display =\n",
              "        google.colab.kernel.accessAllowed ? 'block' : 'none';\n",
              "\n",
              "      async function convertToInteractive(key) {\n",
              "        const element = document.querySelector('#df-aca32bc1-2a6b-4472-8f54-3c898c70d0cc');\n",
              "        const dataTable =\n",
              "          await google.colab.kernel.invokeFunction('convertToInteractive',\n",
              "                                                    [key], {});\n",
              "        if (!dataTable) return;\n",
              "\n",
              "        const docLinkHtml = 'Like what you see? Visit the ' +\n",
              "          '<a target=\"_blank\" href=https://colab.research.google.com/notebooks/data_table.ipynb>data table notebook</a>'\n",
              "          + ' to learn more about interactive tables.';\n",
              "        element.innerHTML = '';\n",
              "        dataTable['output_type'] = 'display_data';\n",
              "        await google.colab.output.renderOutput(dataTable, element);\n",
              "        const docLink = document.createElement('div');\n",
              "        docLink.innerHTML = docLinkHtml;\n",
              "        element.appendChild(docLink);\n",
              "      }\n",
              "    </script>\n",
              "  </div>\n",
              "\n",
              "\n",
              "<div id=\"df-41f83d83-1a67-4e36-be27-f8ace191f33f\">\n",
              "  <button class=\"colab-df-quickchart\" onclick=\"quickchart('df-41f83d83-1a67-4e36-be27-f8ace191f33f')\"\n",
              "            title=\"Suggest charts\"\n",
              "            style=\"display:none;\">\n",
              "\n",
              "<svg xmlns=\"http://www.w3.org/2000/svg\" height=\"24px\"viewBox=\"0 0 24 24\"\n",
              "     width=\"24px\">\n",
              "    <g>\n",
              "        <path d=\"M19 3H5c-1.1 0-2 .9-2 2v14c0 1.1.9 2 2 2h14c1.1 0 2-.9 2-2V5c0-1.1-.9-2-2-2zM9 17H7v-7h2v7zm4 0h-2V7h2v10zm4 0h-2v-4h2v4z\"/>\n",
              "    </g>\n",
              "</svg>\n",
              "  </button>\n",
              "\n",
              "<style>\n",
              "  .colab-df-quickchart {\n",
              "      --bg-color: #E8F0FE;\n",
              "      --fill-color: #1967D2;\n",
              "      --hover-bg-color: #E2EBFA;\n",
              "      --hover-fill-color: #174EA6;\n",
              "      --disabled-fill-color: #AAA;\n",
              "      --disabled-bg-color: #DDD;\n",
              "  }\n",
              "\n",
              "  [theme=dark] .colab-df-quickchart {\n",
              "      --bg-color: #3B4455;\n",
              "      --fill-color: #D2E3FC;\n",
              "      --hover-bg-color: #434B5C;\n",
              "      --hover-fill-color: #FFFFFF;\n",
              "      --disabled-bg-color: #3B4455;\n",
              "      --disabled-fill-color: #666;\n",
              "  }\n",
              "\n",
              "  .colab-df-quickchart {\n",
              "    background-color: var(--bg-color);\n",
              "    border: none;\n",
              "    border-radius: 50%;\n",
              "    cursor: pointer;\n",
              "    display: none;\n",
              "    fill: var(--fill-color);\n",
              "    height: 32px;\n",
              "    padding: 0;\n",
              "    width: 32px;\n",
              "  }\n",
              "\n",
              "  .colab-df-quickchart:hover {\n",
              "    background-color: var(--hover-bg-color);\n",
              "    box-shadow: 0 1px 2px rgba(60, 64, 67, 0.3), 0 1px 3px 1px rgba(60, 64, 67, 0.15);\n",
              "    fill: var(--button-hover-fill-color);\n",
              "  }\n",
              "\n",
              "  .colab-df-quickchart-complete:disabled,\n",
              "  .colab-df-quickchart-complete:disabled:hover {\n",
              "    background-color: var(--disabled-bg-color);\n",
              "    fill: var(--disabled-fill-color);\n",
              "    box-shadow: none;\n",
              "  }\n",
              "\n",
              "  .colab-df-spinner {\n",
              "    border: 2px solid var(--fill-color);\n",
              "    border-color: transparent;\n",
              "    border-bottom-color: var(--fill-color);\n",
              "    animation:\n",
              "      spin 1s steps(1) infinite;\n",
              "  }\n",
              "\n",
              "  @keyframes spin {\n",
              "    0% {\n",
              "      border-color: transparent;\n",
              "      border-bottom-color: var(--fill-color);\n",
              "      border-left-color: var(--fill-color);\n",
              "    }\n",
              "    20% {\n",
              "      border-color: transparent;\n",
              "      border-left-color: var(--fill-color);\n",
              "      border-top-color: var(--fill-color);\n",
              "    }\n",
              "    30% {\n",
              "      border-color: transparent;\n",
              "      border-left-color: var(--fill-color);\n",
              "      border-top-color: var(--fill-color);\n",
              "      border-right-color: var(--fill-color);\n",
              "    }\n",
              "    40% {\n",
              "      border-color: transparent;\n",
              "      border-right-color: var(--fill-color);\n",
              "      border-top-color: var(--fill-color);\n",
              "    }\n",
              "    60% {\n",
              "      border-color: transparent;\n",
              "      border-right-color: var(--fill-color);\n",
              "    }\n",
              "    80% {\n",
              "      border-color: transparent;\n",
              "      border-right-color: var(--fill-color);\n",
              "      border-bottom-color: var(--fill-color);\n",
              "    }\n",
              "    90% {\n",
              "      border-color: transparent;\n",
              "      border-bottom-color: var(--fill-color);\n",
              "    }\n",
              "  }\n",
              "</style>\n",
              "\n",
              "  <script>\n",
              "    async function quickchart(key) {\n",
              "      const quickchartButtonEl =\n",
              "        document.querySelector('#' + key + ' button');\n",
              "      quickchartButtonEl.disabled = true;  // To prevent multiple clicks.\n",
              "      quickchartButtonEl.classList.add('colab-df-spinner');\n",
              "      try {\n",
              "        const charts = await google.colab.kernel.invokeFunction(\n",
              "            'suggestCharts', [key], {});\n",
              "      } catch (error) {\n",
              "        console.error('Error during call to suggestCharts:', error);\n",
              "      }\n",
              "      quickchartButtonEl.classList.remove('colab-df-spinner');\n",
              "      quickchartButtonEl.classList.add('colab-df-quickchart-complete');\n",
              "    }\n",
              "    (() => {\n",
              "      let quickchartButtonEl =\n",
              "        document.querySelector('#df-41f83d83-1a67-4e36-be27-f8ace191f33f button');\n",
              "      quickchartButtonEl.style.display =\n",
              "        google.colab.kernel.accessAllowed ? 'block' : 'none';\n",
              "    })();\n",
              "  </script>\n",
              "</div>\n",
              "\n",
              "  <div id=\"id_3259f4c7-79a1-4b2f-97ec-f81bf4c3c3fa\">\n",
              "    <style>\n",
              "      .colab-df-generate {\n",
              "        background-color: #E8F0FE;\n",
              "        border: none;\n",
              "        border-radius: 50%;\n",
              "        cursor: pointer;\n",
              "        display: none;\n",
              "        fill: #1967D2;\n",
              "        height: 32px;\n",
              "        padding: 0 0 0 0;\n",
              "        width: 32px;\n",
              "      }\n",
              "\n",
              "      .colab-df-generate:hover {\n",
              "        background-color: #E2EBFA;\n",
              "        box-shadow: 0px 1px 2px rgba(60, 64, 67, 0.3), 0px 1px 3px 1px rgba(60, 64, 67, 0.15);\n",
              "        fill: #174EA6;\n",
              "      }\n",
              "\n",
              "      [theme=dark] .colab-df-generate {\n",
              "        background-color: #3B4455;\n",
              "        fill: #D2E3FC;\n",
              "      }\n",
              "\n",
              "      [theme=dark] .colab-df-generate:hover {\n",
              "        background-color: #434B5C;\n",
              "        box-shadow: 0px 1px 3px 1px rgba(0, 0, 0, 0.15);\n",
              "        filter: drop-shadow(0px 1px 2px rgba(0, 0, 0, 0.3));\n",
              "        fill: #FFFFFF;\n",
              "      }\n",
              "    </style>\n",
              "    <button class=\"colab-df-generate\" onclick=\"generateWithVariable('df')\"\n",
              "            title=\"Generate code using this dataframe.\"\n",
              "            style=\"display:none;\">\n",
              "\n",
              "  <svg xmlns=\"http://www.w3.org/2000/svg\" height=\"24px\"viewBox=\"0 0 24 24\"\n",
              "       width=\"24px\">\n",
              "    <path d=\"M7,19H8.4L18.45,9,17,7.55,7,17.6ZM5,21V16.75L18.45,3.32a2,2,0,0,1,2.83,0l1.4,1.43a1.91,1.91,0,0,1,.58,1.4,1.91,1.91,0,0,1-.58,1.4L9.25,21ZM18.45,9,17,7.55Zm-12,3A5.31,5.31,0,0,0,4.9,8.1,5.31,5.31,0,0,0,1,6.5,5.31,5.31,0,0,0,4.9,4.9,5.31,5.31,0,0,0,6.5,1,5.31,5.31,0,0,0,8.1,4.9,5.31,5.31,0,0,0,12,6.5,5.46,5.46,0,0,0,6.5,12Z\"/>\n",
              "  </svg>\n",
              "    </button>\n",
              "    <script>\n",
              "      (() => {\n",
              "      const buttonEl =\n",
              "        document.querySelector('#id_3259f4c7-79a1-4b2f-97ec-f81bf4c3c3fa button.colab-df-generate');\n",
              "      buttonEl.style.display =\n",
              "        google.colab.kernel.accessAllowed ? 'block' : 'none';\n",
              "\n",
              "      buttonEl.onclick = () => {\n",
              "        google.colab.notebook.generateWithVariable('df');\n",
              "      }\n",
              "      })();\n",
              "    </script>\n",
              "  </div>\n",
              "\n",
              "    </div>\n",
              "  </div>\n"
            ],
            "application/vnd.google.colaboratory.intrinsic+json": {
              "type": "dataframe",
              "variable_name": "df",
              "summary": "{\n  \"name\": \"df\",\n  \"rows\": 80684,\n  \"fields\": [\n    {\n      \"column\": \"english\",\n      \"properties\": {\n        \"dtype\": \"string\",\n        \"num_unique_values\": 67189,\n        \"samples\": [\n          \"where is your phone\",\n          \"nice to hear your voice i live i am fine\",\n          \"it's all about chasing a noble dream\"\n        ],\n        \"semantic_type\": \"\",\n        \"description\": \"\"\n      }\n    },\n    {\n      \"column\": \"sinhala\",\n      \"properties\": {\n        \"dtype\": \"string\",\n        \"num_unique_values\": 69329,\n        \"samples\": [\n          \"\\u0db8\\u0dda \\u0db6\\u0dbd\\u0db1\\u0dca\\u0db1\\u0d9a\\u0ddc\\u0dc4\\u0ddc\\u0db8\\u0daf \\u0dc0\\u0dd0\\u0dbd\\u0daf\\u0d9c\\u0db1\\u0dca\\u0db1\\u0dda \\u0d9a\\u0dd2\\u0dba\\u0dbd\",\n          \"\\u0da2\\u0db1\\u0dcf\\u0db0\\u0dd2\\u0db4\\u0dad\\u0dd2\\u0dad\\u0dd4\\u0db8\\u0dcf \\u0d9c\\u0dcf\\u0dc0\\u0da7\\u0dc0\\u0dad\\u0dca \\u0d91\\u0db1\\u0dca\\u0db1 \\u0db6\\u0dd0\\u0dbb\\u0dd2 \\u0dc0\\u0dd9\\u0dba\\u0dd2\",\n          \"\\u0d85\\u0db4\\u0dd2\\u0da7 \\u0db8\\u0dd9\\u0dba\\u0dcf\\u0dc0 \\u0db1\\u0dda\\u0db8\\u0dbb\\u0dca \\u0da7 \\u0daf\\u0dd9\\u0db1\\u0dca\\u0db1 \\u0db6\\u0dd1\"\n        ],\n        \"semantic_type\": \"\",\n        \"description\": \"\"\n      }\n    }\n  ]\n}"
            }
          },
          "metadata": {},
          "execution_count": 5
        }
      ]
    },
    {
      "cell_type": "code",
      "source": [
        "spa_sentences = df[\"sinhala\"] + \"\\t\" + df[\"english\"]\n",
        "\n",
        "# Save the concatenated sentences to a text file\n",
        "with open(\"spa.txt\", \"w\", encoding=\"utf-8\") as file:\n",
        "    for sentence in spa_sentences:\n",
        "        file.write(str(sentence) + \"\\n\")"
      ],
      "metadata": {
        "id": "V_rG4ljF47YM"
      },
      "execution_count": null,
      "outputs": []
    },
    {
      "cell_type": "code",
      "source": [
        "text_file =\"spa.txt\""
      ],
      "metadata": {
        "id": "SvvW9ye04-dN"
      },
      "execution_count": null,
      "outputs": []
    },
    {
      "cell_type": "code",
      "source": [
        "text_file =\"spa.txt\"\n",
        "with open(text_file) as f:\n",
        "  lines=f.read().split(\"\\n\")[:-1]"
      ],
      "metadata": {
        "id": "cLP5bC3a4_wT"
      },
      "execution_count": null,
      "outputs": []
    },
    {
      "cell_type": "code",
      "source": [
        "i=0\n",
        "for line in lines:\n",
        "  print(line)\n",
        "  i=i+1\n",
        "  if(i==20):\n",
        "    break"
      ],
      "metadata": {
        "colab": {
          "base_uri": "https://localhost:8080/"
        },
        "id": "yNI1kpQ95A9l",
        "outputId": "958c950f-fda1-4783-9865-1b69d137c796"
      },
      "execution_count": null,
      "outputs": [
        {
          "output_type": "stream",
          "name": "stdout",
          "text": [
            "ඔයාට තැපෑලෙන් පැකේජ් එකක් හම්බවේවි\tyou will receive a package in the mail\n",
            "ලියාපදිංචිය සම්පූර්ණ කලාට පස්සෙ ඔයාට තහවුරු කිරීමේ කේතයක්  හම්බවේවි\tyou will receive a confirmation code after completing the registration\n",
            "ඊලඟ මිලදී ගැනීම කරන කොට ඔයාට වට්ටමක් හම්බවේවි\tyou will receive a discount on your next purchase\n",
            "ඔයාට අපේ පාරිභෝගික සේවා කණ්ඩායමෙන් දුරකථන ඇමතුමක් හම්බවේවි\tyou will receive a phone call from our customer service team\n",
            "ඔයාගේ ඇණවුම සූදානම් උනාට පස්සෙ ඔයාට දැනුම් දීමක් හම්බවේවි\tyou will receive a notification when your order is ready for pickup\n",
            "ඔයාට පැය 24ක් ඇතුලත ඔයාගෙ විමසීමට පිළිතුරක්  හම්බවේවි\tyou will receive a response to your inquiry within 24 hours\n",
            "ඔයාට ඔයාගේ පක්ෂපාතිත්වය වෙනුවෙන් තෑග්ගක් හම්බවේවි\tyou will receive a gift for your loyalty\n",
            "ඔයාට උත්සවයට ආරාධනාවක් හම්බවේවි\tyou will receive an invitation to the event\n",
            "ඔයාට රිටන් කරන භාණ්ඩය වෙනුවෙන් ආපසු මුදල් ගෙවීමක් හම්බවේවි\tyou will receive a refund for the returned item\n",
            "ඔයාට විස්තර එක්ක  ඊමේල් එකක් හම්බවේවි\tyou'll receive an email with the details\n",
            "ඔයාට තැපෑලෙන් පැකේජ් එකක් හම්බවේවි\tyou'll receive a package in the mail\n",
            "ඔයාට රිටන් කරන භාණ්ඩය වෙනුවෙන් ආපසු මුදල් ගෙවීමක් හම්බවේවි\tyou'll receive a refund for the returned item\n",
            "ඔයාට ඔයාගේ පක්ෂපාතිත්වය වෙනුවෙන් තෑග්ගක් හම්බවේවි\tyou'll receive a gift for your loyalty\n",
            "ඔයාගෙ අම්මට කාර් එකක් හම්බවේවි\tyour mother will receive a car\n",
            "ඔයාගෙ සහෝදරයට කාර් එකක් හම්බවේවි\tyour brother will receive a car\n",
            "ඒක මාර ලස්සනයි\tit's pretty cool\n",
            "අපි ඔයාට ආරාධනා කරනවා ඒක කරන්න කියලා\twe're inviting you to do that\n",
            "යන්ත්‍ර පරිවර්තනය දියුණු කරන්න අපිත් එක්ක එකතු වෙන්න\tjoin us in improving machine translation\n",
            "ඔයාගෙ පරිවර්තන NMT මොඩලය පුහුණු කරන්න පාවිච්චි කරාවි\tyour translations will be used to train an nmt model\n",
            "අපි ඔයාට ආරාධනා කරනවා  ZoomNMT පුහුණු කරන්න පරිවර්තන සාම්පල ඉදිරිපත් කරන්න කියලා\twe're inviting you to submit translation samples for the zoomnmt training\n"
          ]
        }
      ]
    },
    {
      "cell_type": "code",
      "source": [
        "for x in range(len(lines)-10,len(lines)):\n",
        "  print(lines[x])"
      ],
      "metadata": {
        "colab": {
          "base_uri": "https://localhost:8080/"
        },
        "id": "DEfhe33e5Cwv",
        "outputId": "b7a13d57-059d-4db4-ad86-602403eef068"
      },
      "execution_count": null,
      "outputs": [
        {
          "output_type": "stream",
          "name": "stdout",
          "text": [
            "එක් කලෙක කුඩා ගමක ලිලී නම් තරුණියක් ජීවත් වූ අතර ඇයට ලස්සනම මල් වගා කිරීම සඳහා විශේෂ තෑග්ගක් තිබුණි\tOnce upon a time in a small village there lived a young girl named Lily who had a special gift for growing the most beautiful flowers\n",
            "දුර රටක ශ්‍රීමත් ආතර් නම් නිර්භීත නයිට්වරයා නපුරු මායාකාරයෙකුගෙන් පැහැරගෙන ගිය කුමරියක් බේරා ගැනීමට භයානක ගමනක් ආරම්භ කළේය\tIn a distant land a brave knight named Sir Arthur embarked on a perilous journey to rescue a kidnapped princess from an evil sorcerer\n",
            "කුතුහලය දනවන ගවේෂකයෙකු වන එමිලි ඇමසන් වනාන්තරයේ ගැඹුරින් ගිලිහී ගිය පැරණි නගරයක සැඟවුණු වස්තු සොයා ගැනීමට ත්‍රාසජනක ගමනක් ආරම්භ කළාය\tEmily a curious explorer set out on an adventure to uncover the hidden treasures of an ancient lost city deep in the Amazon rainforest\n",
            "සාමකාමී නගරයක් වන විලෝබෲක්හි ඔලිවර් නම් දඟකාර බළලාට විනෝදජනක සහ අනපේක්ෂිත දුෂ්කරතාවන්ට පත්වීමේ දක්ෂතාවයක් තිබුණි\tIn the peaceful town of Willowbrook a mischievous cat named Oliver had a talent for getting into amusing and unexpected predicaments\n",
            "දක්ෂ පියානෝ වාදකයෙකු වන සාරා Carnegie Hall හි මහා වේදිකාවේ රඟ දැක්වීමට සිහින මැවූ අතර ඇගේ සංගීත ශිල්පය පුහුණු කිරීමට පැය ගණන් ගත කළාය\tSarah a talented pianist dreamt of performing on the grand stage of Carnegie Hall and spent countless hours practicing her musical craft\n",
            "වශීකෘත වනාන්තරයේ ගැඹුරින් නුවණැති මහලු බකමූණෙකු විසින් මෙහෙයවන ලද වනාන්තර ජීවීන් කණ්ඩායමක් තම නිවස විනාශයෙන් බේරා ගැනීමේ ගවේෂණයක යෙදී සිටියහ\tDeep in the enchanted forest a group of woodland creatures led by a wise old owl embarked on a quest to save their home from destruction\n",
            "අව්ව සහිත ගිම්හාන දිනයක මිතුරන් පිරිසක් වැලි මාලිගා ගොඩ නැගීම පිහිනීම සහ සිනහවෙන් විනෝදයෙන් පිරුණු දවසක් සඳහා වෙරළට රැස් වූහ\tOn a sunny summer day a group of friends gathered at the beach for a fun-filled day of sandcastle building swimming and laughter\n",
            "විචිත්‍රවත් මුහුදු වෙරළේ ගම්මානයකට අද්භූත ආගන්තුකයෙකු පැමිණියේ ඔවුන් සමඟ උද්දීපනයක් සහ නගර වැසියන්ගේ ජීවිතයට අනපේක්ෂිත පෙරළියක් ගෙන එයි\tIn a quaint seaside village a mysterious stranger arrived bringing with them an air of excitement and an unexpected twist to the townspeople's lives\n",
            "අභිලාෂකාමී ලේඛකයෙකු වන තෝමස් සෑම අස්සක් මුල්ලක් නෑරම කීමට බලා සිටින කතන්දර ඇති උද්යෝගිමත් නගරයක කාර්යබහුල වීදිවල ආශ්වාදයක් ලබා ගත්තේය\tThomas an aspiring writer found inspiration in the bustling streets of a vibrant city where every corner held a story waiting to be told\n",
            "මිථ්‍යා ජීවීන් සිටින රටක එම්බර් නම් තරුණ මකරෙක් මිත්‍රත්වයේ සහ ධෛර්‍යයේ වටිනා පාඩම් ඉගෙන ගනිමින් ඇගේ ගිනි හුස්ම පාලනය කිරීමට මහත් පරිශ්‍රමයක් දැරීය\tIn a land of mythical creatures a young dragon named Ember struggled to control her fiery breath while learning valuable lessons of friendship and courage\n"
          ]
        }
      ]
    },
    {
      "cell_type": "code",
      "source": [
        "import random\n",
        "import string\n",
        "import re\n",
        "\n",
        "text_pairs = []\n",
        "\n",
        "\n",
        "for line in lines:\n",
        "    if '\\t' in line:\n",
        "        english, sinhala = line.split(\"\\t\")\n",
        "        sinhala = \"[start]\" + sinhala.strip() + \"[end]\"\n",
        "        text_pairs.append((english.strip(), sinhala))\n",
        "for i in range(3):\n",
        "    print(random.choice(text_pairs))\n"
      ],
      "metadata": {
        "colab": {
          "base_uri": "https://localhost:8080/"
        },
        "id": "vBn-cLdD5EJC",
        "outputId": "986b6078-7b2a-46dc-f7df-3e6c420f632c"
      },
      "execution_count": null,
      "outputs": [
        {
          "output_type": "stream",
          "name": "stdout",
          "text": [
            "('ඉතිං මොකක්ද කරන්නේ යාළුවා', '[start]so what are you doing friend[end]')\n",
            "('වාව් හ්ම්', '[start]wow hmm[end]')\n",
            "('ඇය කවුදැයි අපට කියන්න', '[start]tell us who she is[end]')\n"
          ]
        }
      ]
    },
    {
      "cell_type": "code",
      "source": [
        "import random\n",
        "random.shuffle(text_pairs)"
      ],
      "metadata": {
        "id": "iekzlWlc5Fk7"
      },
      "execution_count": null,
      "outputs": []
    },
    {
      "cell_type": "code",
      "source": [
        "num_val_samples =int(0.15*len(text_pairs))\n",
        "num_train_samples=len(text_pairs) -2* num_val_samples\n",
        "train_pairs = text_pairs[:num_train_samples]\n",
        "val_pairs = text_pairs[num_train_samples:num_train_samples + num_val_samples]\n",
        "test_pairs = text_pairs[num_train_samples + num_val_samples:]"
      ],
      "metadata": {
        "id": "zI_r0JMb5G5C"
      },
      "execution_count": null,
      "outputs": []
    },
    {
      "cell_type": "code",
      "source": [
        "print(\"Total sentences:\",len(text_pairs))\n",
        "print(\"Training set size:\",len(train_pairs))\n",
        "print(\"Validation set size:\",len(val_pairs))\n",
        "print(\"Testing set size:\",len(test_pairs))"
      ],
      "metadata": {
        "colab": {
          "base_uri": "https://localhost:8080/"
        },
        "id": "QRUYp8BD5IQ0",
        "outputId": "8bedd1eb-7349-4fb3-ad84-d783b844135d"
      },
      "execution_count": null,
      "outputs": [
        {
          "output_type": "stream",
          "name": "stdout",
          "text": [
            "Total sentences: 80633\n",
            "Training set size: 56445\n",
            "Validation set size: 12094\n",
            "Testing set size: 12094\n"
          ]
        }
      ]
    },
    {
      "cell_type": "code",
      "source": [
        "len(train_pairs)+len(val_pairs)+len(test_pairs)"
      ],
      "metadata": {
        "colab": {
          "base_uri": "https://localhost:8080/"
        },
        "id": "ZVXKbvV95KfK",
        "outputId": "e9921df3-2677-4d11-adeb-578fe12023e1"
      },
      "execution_count": null,
      "outputs": [
        {
          "output_type": "execute_result",
          "data": {
            "text/plain": [
              "80633"
            ]
          },
          "metadata": {},
          "execution_count": 18
        }
      ]
    },
    {
      "cell_type": "code",
      "source": [
        "strip_chars = string.punctuation + \"¿\"\n",
        "strip_chars = strip_chars.replace(\"[\", \"\")\n",
        "strip_chars = strip_chars.replace(\"]\", \"\")"
      ],
      "metadata": {
        "id": "oeVLjBW15LzV"
      },
      "execution_count": null,
      "outputs": []
    },
    {
      "cell_type": "code",
      "source": [
        "f\"[{re.escape(strip_chars)}]\""
      ],
      "metadata": {
        "colab": {
          "base_uri": "https://localhost:8080/",
          "height": 36
        },
        "id": "SnUHjpMi5NES",
        "outputId": "586168b5-5bdd-48bc-b11a-0f12360c5ab1"
      },
      "execution_count": null,
      "outputs": [
        {
          "output_type": "execute_result",
          "data": {
            "text/plain": [
              "'[!\"\\\\#\\\\$%\\\\&\\'\\\\(\\\\)\\\\*\\\\+,\\\\-\\\\./:;<=>\\\\?@\\\\\\\\\\\\^_`\\\\{\\\\|\\\\}\\\\~¿]'"
            ],
            "application/vnd.google.colaboratory.intrinsic+json": {
              "type": "string"
            }
          },
          "metadata": {},
          "execution_count": 20
        }
      ]
    },
    {
      "cell_type": "code",
      "source": [
        "from tensorflow import keras\n",
        "from tensorflow.keras import layers\n",
        "def custom_standardization(input_string):\n",
        "  lowercase = tf.strings.lower(input_string)\n",
        "  return tf.strings.regex_replace(\n",
        "    lowercase, f\"[{re.escape(strip_chars)}]\", \"\")\n",
        "vocab_size = 15000\n",
        "sequence_length = 20\n",
        "source_vectorization = layers.TextVectorization(\n",
        "  max_tokens=vocab_size,\n",
        "  output_mode=\"int\",\n",
        "  output_sequence_length=sequence_length,\n",
        ")\n",
        "target_vectorization = layers.TextVectorization(\n",
        "  max_tokens=vocab_size,\n",
        "  output_mode=\"int\",\n",
        "  output_sequence_length=sequence_length + 1,\n",
        "  standardize=custom_standardization,\n",
        ")\n",
        "train_english_texts = [pair[0] for pair in train_pairs]\n",
        "train_spanish_texts = [pair[1] for pair in train_pairs]"
      ],
      "metadata": {
        "id": "9lOi6bJG5OXX"
      },
      "execution_count": null,
      "outputs": []
    },
    {
      "cell_type": "code",
      "source": [],
      "metadata": {
        "id": "mz29aKFO5PqP"
      },
      "execution_count": null,
      "outputs": []
    },
    {
      "cell_type": "code",
      "source": [
        "source_vectorization.adapt(train_english_texts)\n",
        "target_vectorization.adapt(train_spanish_texts)"
      ],
      "metadata": {
        "id": "gbc9GBPn5P4h"
      },
      "execution_count": null,
      "outputs": []
    },
    {
      "cell_type": "code",
      "source": [
        "batch_size=64\n",
        "\n",
        "def format_dataset(eng,spa):\n",
        "  eng=source_vectorization(eng)\n",
        "  spa=target_vectorization(spa)\n",
        "  return({\n",
        "      \"english\":eng,\n",
        "      \"sinhala\":spa[:,:-1],\n",
        "  },spa[:,1:])\n",
        "\n",
        "def make_dataset(pairs):\n",
        "  eng_texts, spa_texts =zip(*pairs)\n",
        "  eng_texts =list(eng_texts)\n",
        "  spa_texts =list(spa_texts)\n",
        "  dataset = tf.data.Dataset.from_tensor_slices((eng_texts, spa_texts))\n",
        "  dataset = dataset.batch(batch_size)\n",
        "  dataset = dataset.map(format_dataset, num_parallel_calls=4)\n",
        "  return dataset.shuffle(2048).prefetch(16).cache()\n",
        "\n",
        "train_ds = make_dataset(train_pairs)\n",
        "val_ds = make_dataset(val_pairs)\n",
        "\n",
        "for inputs, targets in train_ds.take(1):\n",
        "  print(f\"inputs['english'].shape:{inputs['english'].shape}\")\n",
        "  print(f\"inputs['sinhala'].shape:{inputs['sinhala'].shape}\")\n",
        "  print(f\"targets.shape:{targets.shape}\")\n",
        "\n",
        "  inputs['english'].shape:  (64, 20)\n",
        "  inputs['sinhala'].shape: (64, 20)\n",
        "  targets.shape: (64, 20)\n",
        "\n"
      ],
      "metadata": {
        "colab": {
          "base_uri": "https://localhost:8080/"
        },
        "id": "0YGLZpEq5RlW",
        "outputId": "f9762710-1d6d-4a9a-bb2a-a4fbd1c9b157"
      },
      "execution_count": null,
      "outputs": [
        {
          "output_type": "stream",
          "name": "stdout",
          "text": [
            "inputs['english'].shape:(64, 20)\n",
            "inputs['sinhala'].shape:(64, 20)\n",
            "targets.shape:(64, 20)\n"
          ]
        }
      ]
    },
    {
      "cell_type": "code",
      "source": [
        "\n",
        "import string\n",
        "import tensorflow as tf\n",
        "from tensorflow import keras\n",
        "from tensorflow.keras import layers"
      ],
      "metadata": {
        "id": "JpNS3FUK5TDU"
      },
      "execution_count": null,
      "outputs": []
    },
    {
      "cell_type": "code",
      "source": [
        "import tensorflow as tf\n",
        "from tensorflow.keras import layers\n",
        "\n",
        "class TransformerEncoder(layers.Layer):\n",
        "    def __init__(self, embed_dim, dense_dim, num_heads, **kwargs):\n",
        "        super().__init__(**kwargs)\n",
        "        self.embed_dim = embed_dim\n",
        "        self.dense_dim = dense_dim\n",
        "        self.num_heads = num_heads\n",
        "        self.attention = layers.MultiHeadAttention(\n",
        "            num_heads=num_heads, key_dim=embed_dim)\n",
        "        self.dense_proj = tf.keras.Sequential([\n",
        "            layers.Dense(dense_dim, activation=\"relu\"),\n",
        "            layers.Dense(embed_dim),\n",
        "        ])\n",
        "        self.layernorm_1 = layers.LayerNormalization()\n",
        "        self.layernorm_2 = layers.LayerNormalization()\n",
        "\n",
        "    def call(self, inputs, mask=None):\n",
        "        if mask is not None:\n",
        "            mask = mask[:, tf.newaxis, :]\n",
        "        attention_output = self.attention(\n",
        "            inputs, inputs, attention_mask=mask)\n",
        "        proj_input = self.layernorm_1(inputs + attention_output)\n",
        "        proj_output = self.dense_proj(proj_input)\n",
        "        return self.layernorm_2(proj_input + proj_output)\n",
        "\n",
        "    def get_config(self):\n",
        "        config = super().get_config()\n",
        "        config.update({\n",
        "            \"embed_dim\": self.embed_dim,\n",
        "            \"num_heads\": self.num_heads,\n",
        "            \"dense_dim\": self.dense_dim,\n",
        "        })\n",
        "        return config\n"
      ],
      "metadata": {
        "id": "Dwhn_DU35UPa"
      },
      "execution_count": null,
      "outputs": []
    },
    {
      "cell_type": "code",
      "source": [
        "import tensorflow as tf\n",
        "from tensorflow.keras import layers\n",
        "\n",
        "class TransformerDecoder(layers.Layer):\n",
        "    def __init__(self, embed_dim, dense_dim, num_heads, **kwargs):\n",
        "        super().__init__(**kwargs)\n",
        "        self.embed_dim = embed_dim\n",
        "        self.dense_dim = dense_dim\n",
        "        self.num_heads = num_heads\n",
        "        self.attention_1 = layers.MultiHeadAttention(num_heads=num_heads, key_dim=embed_dim)\n",
        "        self.attention_2 = layers.MultiHeadAttention(num_heads=num_heads, key_dim=embed_dim)\n",
        "        self.dense_proj = tf.keras.Sequential([\n",
        "            layers.Dense(dense_dim, activation=\"relu\"),\n",
        "            layers.Dense(embed_dim),\n",
        "        ])\n",
        "        self.layernorm_1 = layers.LayerNormalization()\n",
        "        self.layernorm_2 = layers.LayerNormalization()\n",
        "        self.layernorm_3 = layers.LayerNormalization()\n",
        "        self.supports_masking = True\n",
        "\n",
        "    def get_config(self):\n",
        "        config = super().get_config()\n",
        "        config.update({\n",
        "            \"embed_dim\": self.embed_dim,\n",
        "            \"num_heads\": self.num_heads,\n",
        "            \"dense_dim\": self.dense_dim,\n",
        "        })\n",
        "        return config\n",
        "\n",
        "    def get_causal_attention_mask(self, inputs):\n",
        "        input_shape = tf.shape(inputs)\n",
        "        batch_size, sequence_length = input_shape[0], input_shape[1]\n",
        "        i = tf.range(sequence_length)[:, tf.newaxis]\n",
        "        j = tf.range(sequence_length)\n",
        "        mask = tf.cast(i >= j, dtype=\"int32\")\n",
        "        mask = tf.reshape(mask, (1, input_shape[1], input_shape[1]))\n",
        "        mult = tf.concat([tf.expand_dims(batch_size, -1), tf.constant([1, 1], dtype=tf.int32)], axis=0)\n",
        "        return tf.tile(mask, mult)\n",
        "\n",
        "    def call(self, inputs, encoder_outputs, mask=None):\n",
        "        causal_mask = self.get_causal_attention_mask(inputs)\n",
        "        if mask is not None:\n",
        "            padding_mask = tf.cast(mask[:, tf.newaxis, :], dtype=\"int32\")\n",
        "            padding_mask = tf.minimum(padding_mask, causal_mask)\n",
        "        else:\n",
        "            padding_mask = mask\n",
        "        attention_output_1 = self.attention_1(\n",
        "            query=inputs,\n",
        "            value=inputs,\n",
        "            key=inputs,\n",
        "            attention_mask=causal_mask\n",
        "        )\n",
        "        attention_output_1 = self.layernorm_1(inputs + attention_output_1)\n",
        "        attention_output_2 = self.attention_2(\n",
        "            query=attention_output_1,\n",
        "            value=encoder_outputs,\n",
        "            key=encoder_outputs,\n",
        "            attention_mask=padding_mask,\n",
        "        )\n",
        "        attention_output_2 = self.layernorm_2(attention_output_1 + attention_output_2)\n",
        "        proj_output = self.dense_proj(attention_output_2)\n",
        "        return self.layernorm_3(attention_output_2 + proj_output)\n"
      ],
      "metadata": {
        "id": "0Z_I9C-S5Vh5"
      },
      "execution_count": null,
      "outputs": []
    },
    {
      "cell_type": "code",
      "source": [
        "import tensorflow as tf\n",
        "from tensorflow.keras import layers\n",
        "\n",
        "class PositionalEmbedding(layers.Layer):\n",
        "    def __init__(self, sequence_length, input_dim, output_dim, **kwargs):\n",
        "        super().__init__(**kwargs)\n",
        "        self.token_embeddings = layers.Embedding(input_dim=input_dim, output_dim=output_dim)\n",
        "        self.position_embeddings = layers.Embedding(input_dim=sequence_length, output_dim=output_dim)\n",
        "        self.sequence_length = sequence_length\n",
        "        self.input_dim = input_dim\n",
        "        self.output_dim = output_dim\n",
        "\n",
        "    def call(self, inputs):\n",
        "        length = tf.shape(inputs)[-1]\n",
        "        positions = tf.range(start=0, limit=length, delta=1)\n",
        "        embedded_tokens = self.token_embeddings(inputs)\n",
        "        embedded_positions = self.position_embeddings(positions)\n",
        "        return embedded_tokens + embedded_positions\n",
        "\n",
        "    def compute_mask(self, inputs, mask=None):\n",
        "        return tf.math.not_equal(inputs, 0)\n",
        "\n",
        "    def get_config(self):\n",
        "        config = super(PositionalEmbedding, self).get_config()\n",
        "        config.update({\n",
        "            \"output_dim\": self.output_dim,\n",
        "            \"sequence_length\": self.sequence_length,\n",
        "            \"input_dim\": self.input_dim,\n",
        "        })\n",
        "        return config\n"
      ],
      "metadata": {
        "id": "kwiI9T1e5W1b"
      },
      "execution_count": null,
      "outputs": []
    },
    {
      "cell_type": "code",
      "source": [
        "embed_dim = 256\n",
        "dense_dim = 2048\n",
        "num_heads = 8\n",
        "\n",
        "\n",
        "# Define the encoder inputs\n",
        "encoder_inputs = tf.keras.Input(shape=(None,), dtype=\"int64\", name=\"english\")\n",
        "\n",
        "# Add positional embedding to the encoder inputs\n",
        "x = PositionalEmbedding(sequence_length, vocab_size, embed_dim)(encoder_inputs)\n",
        "\n",
        "# Encode the inputs using TransformerEncoder\n",
        "encoder_outputs = TransformerEncoder(embed_dim, dense_dim, num_heads)(x)\n",
        "\n",
        "# Define the decoder inputs\n",
        "decoder_inputs = tf.keras.Input(shape=(None,), dtype=\"int64\", name=\"sinhala\")\n",
        "\n",
        "# Add positional embedding to the decoder inputs\n",
        "x = PositionalEmbedding(sequence_length, vocab_size, embed_dim)(decoder_inputs)\n",
        "\n",
        "# Decode the inputs using TransformerDecoder\n",
        "x = TransformerDecoder(embed_dim, dense_dim, num_heads)(x, encoder_outputs)\n",
        "\n",
        "# Apply dropout\n",
        "x = layers.Dropout(0.5)(x)\n",
        "\n",
        "# Generate decoder outputs\n",
        "decoder_outputs = layers.Dense(vocab_size, activation=\"softmax\")(x)\n",
        "\n",
        "# Create the transformer model\n",
        "transformer = tf.keras.Model([encoder_inputs, decoder_inputs], decoder_outputs)\n",
        "\n",
        "transformer.summary()"
      ],
      "metadata": {
        "colab": {
          "base_uri": "https://localhost:8080/"
        },
        "id": "QWIsI-Vt5YFM",
        "outputId": "92a74534-30df-4caa-8183-781eb6f3917c"
      },
      "execution_count": null,
      "outputs": [
        {
          "output_type": "stream",
          "name": "stdout",
          "text": [
            "Model: \"model\"\n",
            "__________________________________________________________________________________________________\n",
            " Layer (type)                Output Shape                 Param #   Connected to                  \n",
            "==================================================================================================\n",
            " english (InputLayer)        [(None, None)]               0         []                            \n",
            "                                                                                                  \n",
            " sinhala (InputLayer)        [(None, None)]               0         []                            \n",
            "                                                                                                  \n",
            " positional_embedding (Posi  (None, None, 256)            3845120   ['english[0][0]']             \n",
            " tionalEmbedding)                                                                                 \n",
            "                                                                                                  \n",
            " positional_embedding_1 (Po  (None, None, 256)            3845120   ['sinhala[0][0]']             \n",
            " sitionalEmbedding)                                                                               \n",
            "                                                                                                  \n",
            " transformer_encoder (Trans  (None, None, 256)            3155456   ['positional_embedding[0][0]']\n",
            " formerEncoder)                                                                                   \n",
            "                                                                                                  \n",
            " transformer_decoder (Trans  (None, None, 256)            5259520   ['positional_embedding_1[0][0]\n",
            " formerDecoder)                                                     ',                            \n",
            "                                                                     'transformer_encoder[0][0]'] \n",
            "                                                                                                  \n",
            " dropout (Dropout)           (None, None, 256)            0         ['transformer_decoder[0][0]'] \n",
            "                                                                                                  \n",
            " dense_4 (Dense)             (None, None, 15000)          3855000   ['dropout[0][0]']             \n",
            "                                                                                                  \n",
            "==================================================================================================\n",
            "Total params: 19960216 (76.14 MB)\n",
            "Trainable params: 19960216 (76.14 MB)\n",
            "Non-trainable params: 0 (0.00 Byte)\n",
            "__________________________________________________________________________________________________\n"
          ]
        }
      ]
    },
    {
      "cell_type": "code",
      "source": [
        "transformer.compile(optimizer=\"rmsprop\",\n",
        "                    loss=\"sparse_categorical_crossentropy\",\n",
        "                    metrics=[\"accuracy\"])\n",
        "\n",
        "transformer.fit(train_ds, epochs=30, validation_data=val_ds)\n"
      ],
      "metadata": {
        "colab": {
          "base_uri": "https://localhost:8080/"
        },
        "id": "oseUs_i55Zmz",
        "outputId": "b1d27bab-6e18-4560-891f-9405974243de"
      },
      "execution_count": null,
      "outputs": [
        {
          "output_type": "stream",
          "name": "stdout",
          "text": [
            "Epoch 1/30\n",
            "882/882 [==============================] - 82s 80ms/step - loss: 5.0613 - accuracy: 0.2905 - val_loss: 4.1527 - val_accuracy: 0.3680\n",
            "Epoch 2/30\n",
            "882/882 [==============================] - 65s 74ms/step - loss: 4.1873 - accuracy: 0.3830 - val_loss: 3.7669 - val_accuracy: 0.4154\n",
            "Epoch 3/30\n",
            "882/882 [==============================] - 62s 70ms/step - loss: 3.8184 - accuracy: 0.4306 - val_loss: 3.5749 - val_accuracy: 0.4443\n",
            "Epoch 4/30\n",
            "882/882 [==============================] - 62s 70ms/step - loss: 3.5545 - accuracy: 0.4666 - val_loss: 3.4798 - val_accuracy: 0.4653\n",
            "Epoch 5/30\n",
            "882/882 [==============================] - 61s 70ms/step - loss: 3.3583 - accuracy: 0.4938 - val_loss: 3.4866 - val_accuracy: 0.4716\n",
            "Epoch 6/30\n",
            "882/882 [==============================] - 61s 69ms/step - loss: 3.2001 - accuracy: 0.5174 - val_loss: 3.4382 - val_accuracy: 0.4796\n",
            "Epoch 7/30\n",
            "882/882 [==============================] - 61s 69ms/step - loss: 3.0743 - accuracy: 0.5377 - val_loss: 3.4456 - val_accuracy: 0.4812\n",
            "Epoch 8/30\n",
            "882/882 [==============================] - 61s 70ms/step - loss: 2.9696 - accuracy: 0.5550 - val_loss: 3.4512 - val_accuracy: 0.4908\n",
            "Epoch 9/30\n",
            "882/882 [==============================] - 61s 69ms/step - loss: 2.8790 - accuracy: 0.5703 - val_loss: 3.5021 - val_accuracy: 0.4902\n",
            "Epoch 10/30\n",
            "882/882 [==============================] - 61s 69ms/step - loss: 2.7953 - accuracy: 0.5851 - val_loss: 3.4840 - val_accuracy: 0.4962\n",
            "Epoch 11/30\n",
            "882/882 [==============================] - 61s 70ms/step - loss: 2.7271 - accuracy: 0.5975 - val_loss: 3.5164 - val_accuracy: 0.5007\n",
            "Epoch 12/30\n",
            "882/882 [==============================] - 61s 69ms/step - loss: 2.6670 - accuracy: 0.6085 - val_loss: 3.5508 - val_accuracy: 0.4946\n",
            "Epoch 13/30\n",
            "882/882 [==============================] - 62s 70ms/step - loss: 2.6179 - accuracy: 0.6171 - val_loss: 3.5809 - val_accuracy: 0.5007\n",
            "Epoch 14/30\n",
            "882/882 [==============================] - 61s 69ms/step - loss: 2.5730 - accuracy: 0.6256 - val_loss: 3.6200 - val_accuracy: 0.4994\n",
            "Epoch 15/30\n",
            "882/882 [==============================] - 60s 69ms/step - loss: 2.5341 - accuracy: 0.6340 - val_loss: 3.6506 - val_accuracy: 0.4996\n",
            "Epoch 16/30\n",
            "882/882 [==============================] - 64s 73ms/step - loss: 2.4955 - accuracy: 0.6410 - val_loss: 3.6333 - val_accuracy: 0.5019\n",
            "Epoch 17/30\n",
            "882/882 [==============================] - 64s 73ms/step - loss: 2.4661 - accuracy: 0.6466 - val_loss: 3.6736 - val_accuracy: 0.5003\n",
            "Epoch 18/30\n",
            "882/882 [==============================] - 61s 69ms/step - loss: 2.4309 - accuracy: 0.6532 - val_loss: 3.7111 - val_accuracy: 0.4968\n",
            "Epoch 19/30\n",
            "882/882 [==============================] - 60s 68ms/step - loss: 2.4011 - accuracy: 0.6582 - val_loss: 3.7155 - val_accuracy: 0.5030\n",
            "Epoch 20/30\n",
            "882/882 [==============================] - 61s 69ms/step - loss: 2.3715 - accuracy: 0.6645 - val_loss: 3.7508 - val_accuracy: 0.4976\n",
            "Epoch 21/30\n",
            "882/882 [==============================] - 61s 69ms/step - loss: 2.3416 - accuracy: 0.6688 - val_loss: 3.7970 - val_accuracy: 0.4999\n",
            "Epoch 22/30\n",
            "882/882 [==============================] - 61s 69ms/step - loss: 2.3079 - accuracy: 0.6748 - val_loss: 3.8012 - val_accuracy: 0.5029\n",
            "Epoch 23/30\n",
            "882/882 [==============================] - 60s 68ms/step - loss: 2.2858 - accuracy: 0.6789 - val_loss: 3.8652 - val_accuracy: 0.4965\n",
            "Epoch 24/30\n",
            "882/882 [==============================] - 60s 68ms/step - loss: 2.2644 - accuracy: 0.6837 - val_loss: 3.8790 - val_accuracy: 0.5013\n",
            "Epoch 25/30\n",
            "882/882 [==============================] - 60s 68ms/step - loss: 2.2353 - accuracy: 0.6877 - val_loss: 3.8740 - val_accuracy: 0.5000\n",
            "Epoch 26/30\n",
            "882/882 [==============================] - 60s 68ms/step - loss: 2.2146 - accuracy: 0.6919 - val_loss: 3.8641 - val_accuracy: 0.5011\n",
            "Epoch 27/30\n",
            "882/882 [==============================] - 60s 68ms/step - loss: 2.1932 - accuracy: 0.6954 - val_loss: 3.9093 - val_accuracy: 0.5048\n",
            "Epoch 28/30\n",
            "882/882 [==============================] - 60s 68ms/step - loss: 2.1707 - accuracy: 0.6994 - val_loss: 3.9187 - val_accuracy: 0.5015\n",
            "Epoch 29/30\n",
            "882/882 [==============================] - 64s 73ms/step - loss: 2.1467 - accuracy: 0.7031 - val_loss: 3.9396 - val_accuracy: 0.5038\n",
            "Epoch 30/30\n",
            "882/882 [==============================] - 60s 68ms/step - loss: 2.1242 - accuracy: 0.7081 - val_loss: 3.9792 - val_accuracy: 0.5012\n"
          ]
        },
        {
          "output_type": "execute_result",
          "data": {
            "text/plain": [
              "<keras.src.callbacks.History at 0x7f948c1db280>"
            ]
          },
          "metadata": {},
          "execution_count": 29
        }
      ]
    },
    {
      "cell_type": "code",
      "source": [
        "import numpy as np\n",
        "\n",
        "# Define the vocabulary and index lookup for Spanish\n",
        "spa_vocab = target_vectorization.get_vocabulary()\n",
        "spa_index_lookup = dict(zip(range(len(spa_vocab)), spa_vocab))\n",
        "max_decoded_sentence_length = 20\n",
        "\n",
        "def decode_sequence(input_sentence):\n",
        "    tokenized_input_sentence = source_vectorization([input_sentence])\n",
        "    decoded_sentence = \"[start]\"\n",
        "\n",
        "    for i in range(max_decoded_sentence_length):\n",
        "        tokenized_target_sentence = target_vectorization([decoded_sentence])[:, :-1]\n",
        "        predictions = transformer([tokenized_input_sentence, tokenized_target_sentence])\n",
        "        sampled_token_index = np.argmax(predictions[0, i, :])\n",
        "        sampled_token = spa_index_lookup[sampled_token_index]\n",
        "        decoded_sentence += \" \" + sampled_token\n",
        "\n",
        "        if sampled_token == \"[end]\":\n",
        "            break\n",
        "\n",
        "    return decoded_sentence\n",
        "\n",
        "test_eng_texts = [pair[0] for pair in test_pairs]\n",
        "\n",
        "for _ in range(20):\n",
        "    input_sentence = random.choice(test_eng_texts)\n",
        "    print(\"-\")\n",
        "    print(input_sentence)\n",
        "    print(decode_sequence(input_sentence))\n"
      ],
      "metadata": {
        "colab": {
          "base_uri": "https://localhost:8080/"
        },
        "id": "NDD9xVMC5a9U",
        "outputId": "1df3f028-d089-4c41-aac5-2dcdeb544145"
      },
      "execution_count": null,
      "outputs": [
        {
          "output_type": "stream",
          "name": "stdout",
          "text": [
            "-\n",
            "ඔබ සමඟ අඳුරු සවස පැමිණේ\n",
            "[start] from the one who is written in trouble[end]            \n",
            "-\n",
            "එයාලාට තියෙනවා අසහාය ශක්තියක්\n",
            "[start] have [UNK] from the children[end]               \n",
            "-\n",
            "විසා තියේද මෙහෙට එන්න\n",
            "[start] have found here[end]                 \n",
            "-\n",
            "\"මම ඔයාගෙ නෙමෙයි\"\n",
            "[start] not from you[end]                 \n",
            "-\n",
            "මට ඔයාගෙ උදව් ඕනේ\n",
            "[start] from your help[end]                 \n",
            "-\n",
            "ලෑස්තියි  දැක්කා නේද\n",
            "[start] saw right[end]                  \n",
            "-\n",
            "සර්  කන්න\n",
            "[start] eat and wait[end]                 \n",
            "-\n",
            "ඔයාට අවවාද කලා\n",
            "[start] you[end]                   \n",
            "-\n",
            "මොකක්ද කිව්‍වේ\n",
            "[start] from what[end]                  \n",
            "-\n",
            "හැමපෝනියෙක්ම බලන්න අපේ යුනිකෝන් උගුල\n",
            "[start] from the love of our guys[end]              \n",
            "-\n",
            "ඔයාට එයාලාගේ විදේශ ගමන් බලපත්‍ර තියාගන්න පුලුවන්\n",
            "[start] can have a strange situation as the [UNK]            \n",
            "-\n",
            "තව මේකත් තිබ්බනං\n",
            "[start] from this too much[end]                \n",
            "-\n",
            "213 වන උත්සාහය\n",
            "[start] attempt[end]                   \n",
            "-\n",
            "ඒ කියන්නේ එයාලා දන්නවා මම ඉන්නවා කියලා\n",
            "[start] says they know i am[end]               \n",
            "-\n",
            "එයාගේ නමේ තේරුම සමාවේ දේවතාවිය\n",
            "[start] from his husband that he has no game he has have got a mistake[end]      \n",
            "-\n",
            "හරි මෙන්න අපේ කතාව\n",
            "[start] here story is from our story[end]              \n",
            "-\n",
            "නෑ එයා මේකේ නෑ  අපි අනික් ඒවායේ බලමු\n",
            "[start] he is not here we dont have talk to him[end]          \n",
            "-\n",
            "ඔයා මෙහෙම වුනාට පස්සේ\n",
            "[start] is fine after this[end]                \n",
            "-\n",
            "ස්තූතියි\n",
            "[start]                    \n",
            "-\n",
            "හිස් බඩක් ති‍යාගෙන\n",
            "[start] from [UNK]                  \n"
          ]
        }
      ]
    },
    {
      "cell_type": "code",
      "source": [
        "import numpy as np\n",
        "\n",
        "# Define the vocabulary and index lookup for Sinhala\n",
        "sin_vocab = target_vectorization.get_vocabulary()\n",
        "sin_index_lookup = dict(zip(range(len(sin_vocab)), sin_vocab))\n",
        "max_decoded_sentence_length = 20\n",
        "\n",
        "def decode_sequence(input_sentence):\n",
        "    tokenized_input_sentence = source_vectorization([input_sentence])\n",
        "    decoded_sentence = \"[start]\"\n",
        "\n",
        "    for i in range(max_decoded_sentence_length):\n",
        "        tokenized_target_sentence = target_vectorization([decoded_sentence])[:, :-1]\n",
        "        predictions = transformer([tokenized_input_sentence, tokenized_target_sentence])\n",
        "        sampled_token_index = np.argmax(predictions[0, i, :])\n",
        "        sampled_token = sin_index_lookup[sampled_token_index]\n",
        "        decoded_sentence += \" \" + sampled_token\n",
        "\n",
        "        if sampled_token == \"[end]\":\n",
        "            break\n",
        "\n",
        "    return decoded_sentence\n",
        "\n",
        "test_eng_texts = [pair[0] for pair in test_pairs]\n",
        "\n",
        "for _ in range(20):\n",
        "    input_sentence = random.choice(test_eng_texts)\n",
        "    print(\"-\")\n",
        "    print(\"English: \", input_sentence)\n",
        "    print(\"Sinhala: \", decode_sequence(input_sentence))\n"
      ],
      "metadata": {
        "colab": {
          "base_uri": "https://localhost:8080/"
        },
        "id": "QTj5HQ2Z5cUw",
        "outputId": "db90814e-fe45-4a8e-ca96-99f06cc27347"
      },
      "execution_count": null,
      "outputs": [
        {
          "output_type": "stream",
          "name": "stdout",
          "text": [
            "-\n",
            "English:  ඔයා දන්නවානේ රජය මේ ගැන කලින් දැනගෙන හිටිය\n",
            "Sinhala:  [start] know about the government a government before[end]   before[end]          \n",
            "-\n",
            "English:  මගේ ලමයින්ව කාලා\n",
            "Sinhala:  [start] from god[end]                  \n",
            "-\n",
            "English:  මොනවාද අහන්න කැමති     කාන්යා නැතිව මෙන ඕන දෙයක්\n",
            "Sinhala:  [start] from likes to ask anything without [UNK]             \n",
            "-\n",
            "English:  එයා එන්නේ නෑ  එයා එනවා\n",
            "Sinhala:  [start] coming not coming[end]               he[end]  \n",
            "-\n",
            "English:  පදම් මාමේ එයාව ලිහන්න\n",
            "Sinhala:  [start] sorry and jaggi[end]              him[end]   \n",
            "-\n",
            "English:  විලියම් ලියෝන් ඔයාට ඒ නැටුමට ආරාධනා කලේ\n",
            "Sinhala:  [start] from young you did that [UNK]              \n",
            "-\n",
            "English:  හලෝ\n",
            "Sinhala:  [start] hello[end]                   \n",
            "-\n",
            "English:  පරිස්සමින් මේ කැළෑ සතෙක්\n",
            "Sinhala:  [start] careful this is [UNK]                \n",
            "-\n",
            "English:  මේ අර පත්තරේ තිබ්බ බල්ලා\n",
            "Sinhala:  [start] was that woman the heart[end]               \n",
            "-\n",
            "English:  වූ\n",
            "Sinhala:  [start] from it[end]                  \n",
            "-\n",
            "English:  ඔයාගෙ පළවෙනි පාඩම\n",
            "Sinhala:  [start] from your first food[end]                \n",
            "-\n",
            "English:  මම ආපහු යනවා  හ්ම්ම්ම්ම්\n",
            "Sinhala:  [start] going back please[end]                 \n",
            "-\n",
            "English:  චුම්බක උඩ පාවීම තමයි නියම\n",
            "Sinhala:  [start] from the great plane is great[end]              \n",
            "-\n",
            "English:  ගොඩක් දුරට කොල්ලෙක්\n",
            "Sinhala:  [start] from a very boy[end]                \n",
            "-\n",
            "English:  අපි කලින් නිතරම මැක්ග්‍රෙගර් ගෙවත්තෙන් හොරකම් කරා\n",
            "Sinhala:  [start] before coming he died something that he was lost many information[end]         \n",
            "-\n",
            "English:  ඩේල් මම ආයේ තාත්තා ගැන හිතන්නේ නෑ හරිද\n",
            "Sinhala:  [start] from the one thing i dont think again right[end]           \n",
            "-\n",
            "English:  අපිට අවශ්‍ය දේ ඊටත් වඩා වටිනවා\n",
            "Sinhala:  [start] from what we need will even by her[end]            \n",
            "-\n",
            "English:  එන්න බෝයි\n",
            "Sinhala:  [start] boy boy[end]                  \n",
            "-\n",
            "English:  අඩේ දෙසීයක්ම දෙන්නම් ඉක්මන්ට\n",
            "Sinhala:  [start] will get the real quickly[end]               \n",
            "-\n",
            "English:  අපි දැන්\n",
            "Sinhala:  [start] now[end]                   \n"
          ]
        }
      ]
    },
    {
      "cell_type": "code",
      "source": [
        "import numpy as np\n",
        "\n",
        "# Define the vocabulary and index lookup for Sinhala\n",
        "sin_vocab = target_vectorization.get_vocabulary()\n",
        "sin_index_lookup = dict(zip(range(len(sin_vocab)), sin_vocab))\n",
        "max_decoded_sentence_length = 20\n",
        "\n",
        "def decode_sequence(input_sentence):\n",
        "    tokenized_input_sentence = source_vectorization([input_sentence])\n",
        "    decoded_sentence = \"[start]\"\n",
        "\n",
        "    for i in range(max_decoded_sentence_length):\n",
        "        tokenized_target_sentence = target_vectorization([decoded_sentence])[:, :-1]\n",
        "        predictions = transformer([tokenized_input_sentence, tokenized_target_sentence])\n",
        "        sampled_token_index = np.argmax(predictions[0, i, :])\n",
        "        sampled_token = sin_index_lookup[sampled_token_index]\n",
        "        decoded_sentence += \" \" + sampled_token\n",
        "\n",
        "        if sampled_token == \"[end]\":\n",
        "            break\n",
        "\n",
        "    return decoded_sentence\n",
        "\n",
        "# Get English input from the user\n",
        "input_sentence = input(\"Enter an English sentence: \")\n",
        "\n",
        "# Translate the input sentence to Sinhala\n",
        "translated_sentence = decode_sequence(input_sentence)\n",
        "\n",
        "# Print the translated sentence\n",
        "print(\"Sinhala translation:\", translated_sentence)\n"
      ],
      "metadata": {
        "colab": {
          "base_uri": "https://localhost:8080/"
        },
        "id": "WiXcUYX25dmE",
        "outputId": "4b6f284a-1277-414e-9171-adbb54a9ae33"
      },
      "execution_count": null,
      "outputs": [
        {
          "output_type": "stream",
          "name": "stdout",
          "text": [
            "Enter an English sentence: ඒක අමාරුයි\n",
            "Sinhala translation: [start] it is difficult for it[end]               \n"
          ]
        }
      ]
    }
  ]
}